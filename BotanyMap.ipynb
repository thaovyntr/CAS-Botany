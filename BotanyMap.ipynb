{
 "cells": [
  {
   "cell_type": "code",
   "execution_count": null,
   "id": "cd2d289d",
   "metadata": {},
   "outputs": [],
   "source": [
    "import plotly.express as px\n",
    "import pandas as pd"
   ]
  },
  {
   "cell_type": "code",
   "execution_count": null,
   "id": "9242bb55",
   "metadata": {},
   "outputs": [],
   "source": [
    "df = pd.read_csv(r'/Users/a1/Downloads/PortalFiles/PortalData.csv', \n",
    "                 usecols=[\"latitude1\",\"longitude1\",\"fullName\",\n",
    "                          \"Class\",\"Order\",\"Family\",\"Species\",\n",
    "                          \"Continent\",\"Country\"])"
   ]
  },
  {
   "cell_type": "code",
   "execution_count": null,
   "id": "9495c46a",
   "metadata": {},
   "outputs": [],
   "source": [
    "fig = px.scatter_geo(df,\n",
    "                     lat='latitude1',\n",
    "                     lon='longitude1', \n",
    "                     hover_name=\"fullName\", \n",
    "                     color='Continent',\n",
    "                     hover_data=['Class',\n",
    "                                 'Order',\n",
    "                                 'Family',\n",
    "                                 'Species',\n",
    "                                 'Country'])\n",
    "fig.update_layout(title = 'Map of plant species around the world', title_x=0.5)\n",
    "fig.show()"
   ]
  },
  {
   "cell_type": "code",
   "execution_count": null,
   "id": "04b87288",
   "metadata": {},
   "outputs": [],
   "source": []
  },
  {
   "cell_type": "code",
   "execution_count": null,
   "id": "e9025bb2",
   "metadata": {
    "scrolled": true
   },
   "outputs": [],
   "source": []
  },
  {
   "cell_type": "code",
   "execution_count": null,
   "id": "c9c05aef",
   "metadata": {},
   "outputs": [],
   "source": []
  },
  {
   "cell_type": "code",
   "execution_count": null,
   "id": "9017cfef",
   "metadata": {},
   "outputs": [],
   "source": []
  }
 ],
 "metadata": {
  "kernelspec": {
   "display_name": "Python 3 (ipykernel)",
   "language": "python",
   "name": "python3"
  },
  "language_info": {
   "codemirror_mode": {
    "name": "ipython",
    "version": 3
   },
   "file_extension": ".py",
   "mimetype": "text/x-python",
   "name": "python",
   "nbconvert_exporter": "python",
   "pygments_lexer": "ipython3",
   "version": "3.10.5"
  }
 },
 "nbformat": 4,
 "nbformat_minor": 5
}
